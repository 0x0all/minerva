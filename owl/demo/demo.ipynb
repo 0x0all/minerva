{
 "metadata": {
  "name": "",
  "signature": "sha256:e689e7f98ba5cc4e4865471b019e4a2ad69e348571b429ed528575ff2ffaa165"
 },
 "nbformat": 3,
 "nbformat_minor": 0,
 "worksheets": [
  {
   "cells": [
    {
     "cell_type": "code",
     "collapsed": false,
     "input": [
      "'''\n",
      "DEMO 1:\n",
      "   Fully-connected FF and BP\n",
      "'''\n",
      "import owl.elewise as ele\n",
      "x = owl.randn([784, 256], 0.0, 0.01)\n",
      "w = owl.randn([512, 784], 0.0, 0.01)\n",
      "b = owl.zeros([512, 1])\n",
      "\n",
      "y = ele.relu(w * x + b)\n",
      "print y.tonparray()\n",
      "\n",
      "e = owl.randn([512, 256], 0.0, 0.01)\n",
      "ey = ele.relu_back(e, y)\n",
      "ex = w.trans() * ey\n",
      "print ex.tonparray()"
     ],
     "language": "python",
     "metadata": {},
     "outputs": [
      {
       "output_type": "stream",
       "stream": "stdout",
       "text": [
        "[[ 0.          0.          0.         ...,  0.00344279  0.00148785  0.        ]\n",
        " [ 0.          0.          0.0032457  ...,  0.          0.          0.00236485]\n",
        " [ 0.00370399  0.00444784  0.00208167 ...,  0.          0.          0.        ]\n",
        " ..., \n",
        " [ 0.00485592  0.00104751  0.         ...,  0.          0.0047835\n",
        "   0.00139268]\n",
        " [ 0.          0.          0.         ...,  0.00576106  0.00130274  0.        ]\n",
        " [ 0.          0.00133057  0.00097034 ...,  0.00456073  0.          0.        ]]\n",
        "[[  2.53898883e-03   1.25723681e-03   5.49433578e-04 ...,   3.04179592e-03\n",
        "    2.16161762e-03  -1.57543691e-03]\n",
        " [ -1.94795604e-03  -1.36105198e-04   1.57442206e-04 ...,   1.40053174e-03\n",
        "    2.23923638e-03  -3.00190935e-04]\n",
        " [ -6.98401011e-04   7.99702189e-04  -1.11399335e-04 ...,  -7.39699812e-04\n",
        "    9.25345172e-04   6.41911116e-04]\n",
        " ..., \n",
        " [  4.82939446e-04  -6.57342840e-04  -1.21239631e-03 ...,  -6.50296046e-04\n",
        "   -1.30396918e-03  -3.18694742e-06]\n",
        " [ -1.16283342e-03  -2.54006358e-03  -1.02090754e-03 ...,   3.83586652e-04\n",
        "   -7.52294669e-04  -1.96690089e-03]\n",
        " [  9.67481232e-04   2.98588711e-04  -2.72445846e-04 ...,   9.42317769e-04\n",
        "    1.19974220e-03  -2.46386742e-03]]\n"
       ]
      }
     ],
     "prompt_number": 3
    },
    {
     "cell_type": "code",
     "collapsed": false,
     "input": [
      "'''\n",
      "DEMO 2:\n",
      "    Convolution FF and BP\n",
      "'''\n",
      "import owl.conv as co\n",
      "x = owl.randn([227, 227, 3, 256], 0.0, 0.1)\n",
      "w = owl.randn([11, 11, 3, 96], 0.0, 0.1)\n",
      "b = owl.zeros([96])\n",
      "conv = co.Convolver(pad_h=0, pad_w=0, stride_v=4, stride_h=4)\n",
      "\n",
      "y = conv.ff(x, w, b)\n",
      "print \"y's shape:\", y.shape\n",
      "\n",
      "e = conv.bp(y, w)\n",
      "print \"e's shape:\", e.shape\n",
      "#print e.tonparray()"
     ],
     "language": "python",
     "metadata": {},
     "outputs": [
      {
       "output_type": "stream",
       "stream": "stdout",
       "text": [
        "y's shape: [55, 55, 96, 256]\n",
        "e's shape: [227, 227, 3, 256]\n"
       ]
      }
     ],
     "prompt_number": 12
    },
    {
     "cell_type": "code",
     "collapsed": false,
     "input": [
      "'''\n",
      "DEMO 3:\n",
      "    Utilize multi-GPU\n",
      "'''\n",
      "x1 = owl.randn([784, 128], 0.0, 0.1)\n",
      "x2 = owl.randn([784, 128], 0.0, 0.1)\n",
      "w = owl.randn([512, 784], 0.0, 0.1)\n",
      "b = owl.zeros([512, 1])\n",
      "\n",
      "#owl.set_device(gpu0)\n",
      "y1 = w * x1 + b\n",
      "#owl.set_device(gpu1)\n",
      "y2 = w * x2 + b\n",
      "gw = y1 * x1.trans() + y2 * x2.trans()\n",
      "print gw.tonparray()"
     ],
     "language": "python",
     "metadata": {},
     "outputs": [
      {
       "output_type": "stream",
       "stream": "stdout",
       "text": [
        "[[-0.88924676  0.00301892 -0.00608678 ...,  0.21764325 -1.15678859\n",
        "  -0.47928005]\n",
        " [ 0.28130513  0.45335743  0.43625218 ..., -0.05883297 -0.68429315\n",
        "   0.78877091]\n",
        " [-0.77993476  0.16725399  0.36180764 ..., -0.12835363  0.35893932\n",
        "   0.70726907]\n",
        " ..., \n",
        " [ 0.00555721 -0.21552649  0.67524523 ..., -0.79715204  0.32290152\n",
        "  -0.65262544]\n",
        " [-0.38657019  0.00995104  0.46662414 ..., -0.00741979 -0.17080441\n",
        "  -0.36736393]\n",
        " [ 0.26776162  0.91869259 -0.66789937 ..., -0.29776445 -0.18187851\n",
        "   0.65112829]]\n"
       ]
      }
     ],
     "prompt_number": 1
    },
    {
     "cell_type": "code",
     "collapsed": false,
     "input": [],
     "language": "python",
     "metadata": {},
     "outputs": []
    }
   ],
   "metadata": {}
  }
 ]
}